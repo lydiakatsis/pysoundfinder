{
 "cells": [
  {
   "cell_type": "code",
   "execution_count": 1,
   "metadata": {},
   "outputs": [],
   "source": [
    "import utils\n",
    "import pandas as pd\n",
    "import numpy as np"
   ]
  },
  {
   "cell_type": "code",
   "execution_count": 2,
   "metadata": {},
   "outputs": [],
   "source": [
    "%load_ext autoreload"
   ]
  },
  {
   "cell_type": "markdown",
   "metadata": {},
   "source": [
    "# Create grid of 3D delays\n",
    "Create a grid of delays for points spaced 2 meters apart from each other on a 3D 4-recorder grid (square in X and Y dimensions)"
   ]
  },
  {
   "cell_type": "code",
   "execution_count": 3,
   "metadata": {},
   "outputs": [],
   "source": [
    "### Dataframe of recorders on plane\n",
    "r_locs_3d = pd.DataFrame(\n",
    "    {\n",
    "        'r1': (0, 0, 2),\n",
    "        'r2':(0, 25, 0),\n",
    "        'r3':(25, 0, 1),\n",
    "        'r4':(25, 25, 0)\n",
    "    },\n",
    "    index = ['x', 'y', 'z']).T\n",
    "\n",
    "### Heights for each set of delays\n",
    "heights = np.array([0, 10])\n",
    "\n",
    "### Create grid of delays\n",
    "temp = 20.0\n",
    "(s_locs, true_delays) = utils.make_delay_grid(\n",
    "    r_locs_3d, heights, spacing = 2, temperature = temp)"
   ]
  },
  {
   "cell_type": "code",
   "execution_count": 4,
   "metadata": {},
   "outputs": [
    {
     "data": {
      "text/html": [
       "<div>\n",
       "<style scoped>\n",
       "    .dataframe tbody tr th:only-of-type {\n",
       "        vertical-align: middle;\n",
       "    }\n",
       "\n",
       "    .dataframe tbody tr th {\n",
       "        vertical-align: top;\n",
       "    }\n",
       "\n",
       "    .dataframe thead th {\n",
       "        text-align: right;\n",
       "    }\n",
       "</style>\n",
       "<table border=\"1\" class=\"dataframe\">\n",
       "  <thead>\n",
       "    <tr style=\"text-align: right;\">\n",
       "      <th></th>\n",
       "      <th>x</th>\n",
       "      <th>y</th>\n",
       "      <th>z</th>\n",
       "    </tr>\n",
       "  </thead>\n",
       "  <tbody>\n",
       "    <tr>\n",
       "      <th>0</th>\n",
       "      <td>1.0</td>\n",
       "      <td>1.0</td>\n",
       "      <td>0.0</td>\n",
       "    </tr>\n",
       "    <tr>\n",
       "      <th>1</th>\n",
       "      <td>1.0</td>\n",
       "      <td>1.0</td>\n",
       "      <td>10.0</td>\n",
       "    </tr>\n",
       "    <tr>\n",
       "      <th>2</th>\n",
       "      <td>3.0</td>\n",
       "      <td>1.0</td>\n",
       "      <td>0.0</td>\n",
       "    </tr>\n",
       "    <tr>\n",
       "      <th>3</th>\n",
       "      <td>3.0</td>\n",
       "      <td>1.0</td>\n",
       "      <td>10.0</td>\n",
       "    </tr>\n",
       "    <tr>\n",
       "      <th>4</th>\n",
       "      <td>5.0</td>\n",
       "      <td>1.0</td>\n",
       "      <td>0.0</td>\n",
       "    </tr>\n",
       "  </tbody>\n",
       "</table>\n",
       "</div>"
      ],
      "text/plain": [
       "     x    y     z\n",
       "0  1.0  1.0   0.0\n",
       "1  1.0  1.0  10.0\n",
       "2  3.0  1.0   0.0\n",
       "3  3.0  1.0  10.0\n",
       "4  5.0  1.0   0.0"
      ]
     },
     "execution_count": 4,
     "metadata": {},
     "output_type": "execute_result"
    }
   ],
   "source": [
    "s_locs.head()"
   ]
  },
  {
   "cell_type": "code",
   "execution_count": 5,
   "metadata": {},
   "outputs": [
    {
     "data": {
      "text/html": [
       "<div>\n",
       "<style scoped>\n",
       "    .dataframe tbody tr th:only-of-type {\n",
       "        vertical-align: middle;\n",
       "    }\n",
       "\n",
       "    .dataframe tbody tr th {\n",
       "        vertical-align: top;\n",
       "    }\n",
       "\n",
       "    .dataframe thead th {\n",
       "        text-align: right;\n",
       "    }\n",
       "</style>\n",
       "<table border=\"1\" class=\"dataframe\">\n",
       "  <thead>\n",
       "    <tr style=\"text-align: right;\">\n",
       "      <th></th>\n",
       "      <th>r1</th>\n",
       "      <th>r2</th>\n",
       "      <th>r3</th>\n",
       "      <th>r4</th>\n",
       "    </tr>\n",
       "  </thead>\n",
       "  <tbody>\n",
       "    <tr>\n",
       "      <th>0</th>\n",
       "      <td>0.007137</td>\n",
       "      <td>0.069988</td>\n",
       "      <td>0.070048</td>\n",
       "      <td>0.098892</td>\n",
       "    </tr>\n",
       "    <tr>\n",
       "      <th>1</th>\n",
       "      <td>0.023670</td>\n",
       "      <td>0.075810</td>\n",
       "      <td>0.074739</td>\n",
       "      <td>0.103095</td>\n",
       "    </tr>\n",
       "    <tr>\n",
       "      <th>2</th>\n",
       "      <td>0.010902</td>\n",
       "      <td>0.070471</td>\n",
       "      <td>0.064232</td>\n",
       "      <td>0.094861</td>\n",
       "    </tr>\n",
       "    <tr>\n",
       "      <th>3</th>\n",
       "      <td>0.025064</td>\n",
       "      <td>0.076257</td>\n",
       "      <td>0.069317</td>\n",
       "      <td>0.099235</td>\n",
       "    </tr>\n",
       "    <tr>\n",
       "      <th>4</th>\n",
       "      <td>0.015959</td>\n",
       "      <td>0.071428</td>\n",
       "      <td>0.058418</td>\n",
       "      <td>0.091025</td>\n",
       "    </tr>\n",
       "  </tbody>\n",
       "</table>\n",
       "</div>"
      ],
      "text/plain": [
       "         r1        r2        r3        r4\n",
       "0  0.007137  0.069988  0.070048  0.098892\n",
       "1  0.023670  0.075810  0.074739  0.103095\n",
       "2  0.010902  0.070471  0.064232  0.094861\n",
       "3  0.025064  0.076257  0.069317  0.099235\n",
       "4  0.015959  0.071428  0.058418  0.091025"
      ]
     },
     "execution_count": 5,
     "metadata": {},
     "output_type": "execute_result"
    }
   ],
   "source": [
    "true_delays.head()"
   ]
  },
  {
   "cell_type": "markdown",
   "metadata": {},
   "source": [
    "# Add error to delays\n",
    "For each delay, run 5 different simulations of delay calculation error by adding \"jitter\" to delays drawn from a uniform distribution"
   ]
  },
  {
   "cell_type": "code",
   "execution_count": 6,
   "metadata": {},
   "outputs": [],
   "source": [
    "### Error distributed Uniform(-0.2, 0.2)\n",
    "ms_error = 0.2\n",
    "\n",
    "### Number of trials to run\n",
    "num_trials = 5\n",
    "\n",
    "### Add the error\n",
    "ms_error = 0.20\n",
    "s_error = ms_error/100\n",
    "jittered = utils.make_jitter_trials(\n",
    "    df = true_delays,\n",
    "    amt = s_error,\n",
    "    trials = num_trials,\n",
    ")"
   ]
  },
  {
   "cell_type": "code",
   "execution_count": 7,
   "metadata": {},
   "outputs": [
    {
     "data": {
      "text/html": [
       "<div>\n",
       "<style scoped>\n",
       "    .dataframe tbody tr th:only-of-type {\n",
       "        vertical-align: middle;\n",
       "    }\n",
       "\n",
       "    .dataframe tbody tr th {\n",
       "        vertical-align: top;\n",
       "    }\n",
       "\n",
       "    .dataframe thead th {\n",
       "        text-align: right;\n",
       "    }\n",
       "</style>\n",
       "<table border=\"1\" class=\"dataframe\">\n",
       "  <thead>\n",
       "    <tr style=\"text-align: right;\">\n",
       "      <th></th>\n",
       "      <th>r1</th>\n",
       "      <th>r2</th>\n",
       "      <th>r3</th>\n",
       "      <th>r4</th>\n",
       "    </tr>\n",
       "  </thead>\n",
       "  <tbody>\n",
       "    <tr>\n",
       "      <th>0</th>\n",
       "      <td>0.0</td>\n",
       "      <td>0.062177</td>\n",
       "      <td>0.062283</td>\n",
       "      <td>0.089155</td>\n",
       "    </tr>\n",
       "    <tr>\n",
       "      <th>1</th>\n",
       "      <td>0.0</td>\n",
       "      <td>0.051466</td>\n",
       "      <td>0.050440</td>\n",
       "      <td>0.076824</td>\n",
       "    </tr>\n",
       "    <tr>\n",
       "      <th>2</th>\n",
       "      <td>0.0</td>\n",
       "      <td>0.058895</td>\n",
       "      <td>0.052702</td>\n",
       "      <td>0.081359</td>\n",
       "    </tr>\n",
       "    <tr>\n",
       "      <th>3</th>\n",
       "      <td>0.0</td>\n",
       "      <td>0.050519</td>\n",
       "      <td>0.043625</td>\n",
       "      <td>0.071571</td>\n",
       "    </tr>\n",
       "    <tr>\n",
       "      <th>4</th>\n",
       "      <td>0.0</td>\n",
       "      <td>0.054796</td>\n",
       "      <td>0.041831</td>\n",
       "      <td>0.072466</td>\n",
       "    </tr>\n",
       "  </tbody>\n",
       "</table>\n",
       "</div>"
      ],
      "text/plain": [
       "    r1        r2        r3        r4\n",
       "0  0.0  0.062177  0.062283  0.089155\n",
       "1  0.0  0.051466  0.050440  0.076824\n",
       "2  0.0  0.058895  0.052702  0.081359\n",
       "3  0.0  0.050519  0.043625  0.071571\n",
       "4  0.0  0.054796  0.041831  0.072466"
      ]
     },
     "execution_count": 7,
     "metadata": {},
     "output_type": "execute_result"
    }
   ],
   "source": [
    "jittered[0].head()"
   ]
  },
  {
   "cell_type": "markdown",
   "metadata": {},
   "source": [
    "# Localize the 3D sounds"
   ]
  },
  {
   "cell_type": "markdown",
   "metadata": {},
   "source": [
    "Try localizing one of the jitter settings"
   ]
  },
  {
   "cell_type": "code",
   "execution_count": 8,
   "metadata": {},
   "outputs": [
    {
     "name": "stderr",
     "output_type": "stream",
     "text": [
      "/Users/tessa/Code/loca9/pysoundfinder/pysoundfinder.py:138: UserWarning: centering\n",
      "  warnings.warn(\"centering\")\n",
      "/Users/tessa/Code/loca9/pysoundfinder/pysoundfinder.py:226: UserWarning: Discriminant negative--set to zero. Solution may be inaccurate. Inspect final value of output array\n",
      "  warnings.warn(\"Discriminant negative--set to zero. Solution may be inaccurate. Inspect final value of output array\", UserWarning)\n"
     ]
    },
    {
     "data": {
      "text/html": [
       "<div>\n",
       "<style scoped>\n",
       "    .dataframe tbody tr th:only-of-type {\n",
       "        vertical-align: middle;\n",
       "    }\n",
       "\n",
       "    .dataframe tbody tr th {\n",
       "        vertical-align: top;\n",
       "    }\n",
       "\n",
       "    .dataframe thead th {\n",
       "        text-align: right;\n",
       "    }\n",
       "</style>\n",
       "<table border=\"1\" class=\"dataframe\">\n",
       "  <thead>\n",
       "    <tr style=\"text-align: right;\">\n",
       "      <th></th>\n",
       "      <th>0</th>\n",
       "      <th>1</th>\n",
       "      <th>2</th>\n",
       "      <th>3</th>\n",
       "    </tr>\n",
       "  </thead>\n",
       "  <tbody>\n",
       "    <tr>\n",
       "      <th>0</th>\n",
       "      <td>2.495695</td>\n",
       "      <td>2.593919</td>\n",
       "      <td>2.137477</td>\n",
       "      <td>-1.041774</td>\n",
       "    </tr>\n",
       "    <tr>\n",
       "      <th>1</th>\n",
       "      <td>3.202065</td>\n",
       "      <td>2.874966</td>\n",
       "      <td>0.129752</td>\n",
       "      <td>-4.692172</td>\n",
       "    </tr>\n",
       "    <tr>\n",
       "      <th>2</th>\n",
       "      <td>4.399310</td>\n",
       "      <td>2.657545</td>\n",
       "      <td>2.337009</td>\n",
       "      <td>-2.198460</td>\n",
       "    </tr>\n",
       "    <tr>\n",
       "      <th>3</th>\n",
       "      <td>4.927240</td>\n",
       "      <td>2.996906</td>\n",
       "      <td>2.890086</td>\n",
       "      <td>-5.250757</td>\n",
       "    </tr>\n",
       "    <tr>\n",
       "      <th>4</th>\n",
       "      <td>6.308473</td>\n",
       "      <td>2.787865</td>\n",
       "      <td>2.658659</td>\n",
       "      <td>-3.683586</td>\n",
       "    </tr>\n",
       "  </tbody>\n",
       "</table>\n",
       "</div>"
      ],
      "text/plain": [
       "          0         1         2         3\n",
       "0  2.495695  2.593919  2.137477 -1.041774\n",
       "1  3.202065  2.874966  0.129752 -4.692172\n",
       "2  4.399310  2.657545  2.337009 -2.198460\n",
       "3  4.927240  2.996906  2.890086 -5.250757\n",
       "4  6.308473  2.787865  2.658659 -3.683586"
      ]
     },
     "execution_count": 8,
     "metadata": {},
     "output_type": "execute_result"
    }
   ],
   "source": [
    "%autoreload\n",
    "import pysoundfinder as pysf\n",
    "localized = []\n",
    "for sound_num in jittered[0].index:\n",
    "    localized.append(pysf.localize_sound(\n",
    "        positions = r_locs_3d,\n",
    "        times = jittered[0].iloc[sound_num],\n",
    "        temp = 20.0,\n",
    "        invert_alg = 'gps', #options: 'lstsq', 'gps'\n",
    "        center = True, #True = original Sound Finder behavior\n",
    "        pseudo = True #False = original Sound Finder\n",
    "    ))\n",
    "results = pd.DataFrame(np.array(localized).reshape(jittered[0].shape))\n",
    "results.head()"
   ]
  },
  {
   "cell_type": "markdown",
   "metadata": {},
   "source": [
    "Use the utility to do the same thing"
   ]
  },
  {
   "cell_type": "code",
   "execution_count": 9,
   "metadata": {},
   "outputs": [
    {
     "data": {
      "text/html": [
       "<div>\n",
       "<style scoped>\n",
       "    .dataframe tbody tr th:only-of-type {\n",
       "        vertical-align: middle;\n",
       "    }\n",
       "\n",
       "    .dataframe tbody tr th {\n",
       "        vertical-align: top;\n",
       "    }\n",
       "\n",
       "    .dataframe thead th {\n",
       "        text-align: right;\n",
       "    }\n",
       "</style>\n",
       "<table border=\"1\" class=\"dataframe\">\n",
       "  <thead>\n",
       "    <tr style=\"text-align: right;\">\n",
       "      <th></th>\n",
       "      <th>x</th>\n",
       "      <th>y</th>\n",
       "      <th>z</th>\n",
       "      <th>r</th>\n",
       "    </tr>\n",
       "  </thead>\n",
       "  <tbody>\n",
       "    <tr>\n",
       "      <th>0</th>\n",
       "      <td>2.495695</td>\n",
       "      <td>2.593919</td>\n",
       "      <td>2.137477</td>\n",
       "      <td>-1.041774</td>\n",
       "    </tr>\n",
       "    <tr>\n",
       "      <th>1</th>\n",
       "      <td>3.202065</td>\n",
       "      <td>2.874966</td>\n",
       "      <td>0.129752</td>\n",
       "      <td>-4.692172</td>\n",
       "    </tr>\n",
       "    <tr>\n",
       "      <th>2</th>\n",
       "      <td>4.399310</td>\n",
       "      <td>2.657545</td>\n",
       "      <td>2.337009</td>\n",
       "      <td>-2.198460</td>\n",
       "    </tr>\n",
       "    <tr>\n",
       "      <th>3</th>\n",
       "      <td>4.927240</td>\n",
       "      <td>2.996906</td>\n",
       "      <td>2.890086</td>\n",
       "      <td>-5.250757</td>\n",
       "    </tr>\n",
       "    <tr>\n",
       "      <th>4</th>\n",
       "      <td>6.308473</td>\n",
       "      <td>2.787865</td>\n",
       "      <td>2.658659</td>\n",
       "      <td>-3.683586</td>\n",
       "    </tr>\n",
       "  </tbody>\n",
       "</table>\n",
       "</div>"
      ],
      "text/plain": [
       "          x         y         z         r\n",
       "0  2.495695  2.593919  2.137477 -1.041774\n",
       "1  3.202065  2.874966  0.129752 -4.692172\n",
       "2  4.399310  2.657545  2.337009 -2.198460\n",
       "3  4.927240  2.996906  2.890086 -5.250757\n",
       "4  6.308473  2.787865  2.658659 -3.683586"
      ]
     },
     "execution_count": 9,
     "metadata": {},
     "output_type": "execute_result"
    }
   ],
   "source": [
    "%autoreload\n",
    "import pysoundfinder\n",
    "results = utils.localize_pysf(\n",
    "    rel_sounds = jittered[0],\n",
    "    r_locs = r_locs_3d,\n",
    "    invert_alg = 'lstsq')\n",
    "results.head()"
   ]
  },
  {
   "cell_type": "markdown",
   "metadata": {},
   "source": [
    "# Localize the 3D sounds in 2D"
   ]
  },
  {
   "cell_type": "code",
   "execution_count": 10,
   "metadata": {},
   "outputs": [],
   "source": [
    "### Take recorder locations to 2D\n",
    "r_locs = r_locs_3d[['x', 'y']]"
   ]
  },
  {
   "cell_type": "markdown",
   "metadata": {},
   "source": [
    "Run trials on all settings, with all levels of jitter."
   ]
  },
  {
   "cell_type": "code",
   "execution_count": 12,
   "metadata": {},
   "outputs": [
    {
     "name": "stderr",
     "output_type": "stream",
     "text": [
      "/Users/tessa/Code/loca9/pysoundfinder/pysoundfinder.py:150: UserWarning: not centering\n",
      "  warnings.warn(\"not centering\")\n"
     ]
    }
   ],
   "source": [
    "%autoreload\n",
    "import utils\n",
    "### Localize using PYSF\n",
    "py_est_dict = {}\n",
    "# All combinations\n",
    "for c in [True, False]:\n",
    "    for s in [True, False]:\n",
    "        for a in ['gps', 'lstsq']:\n",
    "            key = f'ALGO: {a}, CENTER: {c}, SOS: {s}'\n",
    "            py_est = [None] * num_trials\n",
    "\n",
    "            # Localize each trial in the jitter array\n",
    "            for idx, jitter in enumerate(jittered):\n",
    "                py_trial = utils.localize_pysf(\n",
    "                    rel_sounds = jittered[idx],\n",
    "                    r_locs = r_locs,\n",
    "                    invert_alg = a,\n",
    "                    center_array = c,\n",
    "                    use_sos_selection = s,\n",
    "                    temperature = temp\n",
    "                )\n",
    "\n",
    "                py_est[idx] = py_trial\n",
    "                exit()\n",
    "\n",
    "            py_est_dict[key] = py_est\n",
    "\n",
    "\n",
    "keys = list(py_est_dict.keys())"
   ]
  },
  {
   "cell_type": "markdown",
   "metadata": {},
   "source": [
    "# Plot error"
   ]
  },
  {
   "cell_type": "code",
   "execution_count": null,
   "metadata": {},
   "outputs": [],
   "source": [
    "### Find error\n",
    "error_types = utils.calc_all_errors(\n",
    "    original_locs = s_locs,\n",
    "    dfs = py_est_dict)\n",
    "\n",
    "### Average error across trials\n",
    "avg_err_dict = {key: [None] for key in keys}\n",
    "for key in keys:\n",
    "    avg_err_dict[key] = utils.avg_error(error_types[key])\n",
    "    \n",
    "### Create plot\n",
    "utils.make_err_plot(\n",
    "    err_dfs = avg_err_dict,\n",
    "    recs = r_locs.T,\n",
    "    ms_error = ms_error,\n",
    "    trials = num_trials,\n",
    "#    vert_max = ,\n",
    "    sep_by = [0, 10],\n",
    "    std_dev = False,\n",
    "    fig_size = (10, 30),\n",
    "    h_space = 1\n",
    ").show()"
   ]
  },
  {
   "cell_type": "code",
   "execution_count": null,
   "metadata": {},
   "outputs": [],
   "source": []
  }
 ],
 "metadata": {
  "kernelspec": {
   "display_name": "Python 3",
   "language": "python",
   "name": "python3"
  },
  "language_info": {
   "codemirror_mode": {
    "name": "ipython",
    "version": 3
   },
   "file_extension": ".py",
   "mimetype": "text/x-python",
   "name": "python",
   "nbconvert_exporter": "python",
   "pygments_lexer": "ipython3",
   "version": "3.6.10"
  }
 },
 "nbformat": 4,
 "nbformat_minor": 4
}
